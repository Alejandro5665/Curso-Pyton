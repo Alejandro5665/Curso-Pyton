{
 "cells": [
  {
   "cell_type": "markdown",
   "id": "4a49f0c7-6fc8-4b00-9449-d1f03e1ef30c",
   "metadata": {},
   "source": [
    "# Poner Titulos asi"
   ]
  },
  {
   "cell_type": "markdown",
   "id": "6ae3b049-6e59-484f-ac58-9775e51c99a2",
   "metadata": {},
   "source": [
    "## Poner titulos 2 asi"
   ]
  },
  {
   "cell_type": "markdown",
   "id": "c24ef7e6-f8f7-4a04-a338-e358a77acbb9",
   "metadata": {},
   "source": [
    "### Poner titulos 3 asi"
   ]
  },
  {
   "cell_type": "markdown",
   "id": "97d90a03-806b-4ab7-b4ad-dde5b54113d1",
   "metadata": {},
   "source": [
    "**poner en negrita asi**"
   ]
  },
  {
   "cell_type": "markdown",
   "id": "7e805a0b-1b89-475c-a796-574ca8808cb7",
   "metadata": {},
   "source": [
    "poner comentarios asi"
   ]
  },
  {
   "cell_type": "markdown",
   "id": "62f43f29-5335-4ca0-b888-7f2fab17544c",
   "metadata": {},
   "source": [
    "aaaa"
   ]
  },
  {
   "cell_type": "code",
   "execution_count": null,
   "id": "d2a81835-bd02-47eb-b036-f1bcc9500625",
   "metadata": {},
   "outputs": [],
   "source": []
  }
 ],
 "metadata": {
  "kernelspec": {
   "display_name": "Python 3 (ipykernel)",
   "language": "python",
   "name": "python3"
  },
  "language_info": {
   "codemirror_mode": {
    "name": "ipython",
    "version": 3
   },
   "file_extension": ".py",
   "mimetype": "text/x-python",
   "name": "python",
   "nbconvert_exporter": "python",
   "pygments_lexer": "ipython3",
   "version": "3.12.1"
  }
 },
 "nbformat": 4,
 "nbformat_minor": 5
}
